{
 "cells": [
  {
   "cell_type": "code",
   "execution_count": 164,
   "metadata": {
    "_cell_guid": "b1076dfc-b9ad-4769-8c92-a6c4dae69d19",
    "_uuid": "8f2839f25d086af736a60e9eeb907d3b93b6e0e5",
    "execution": {
     "iopub.execute_input": "2021-12-13T19:47:31.021756Z",
     "iopub.status.busy": "2021-12-13T19:47:31.021423Z",
     "iopub.status.idle": "2021-12-13T19:47:31.027477Z",
     "shell.execute_reply": "2021-12-13T19:47:31.026583Z",
     "shell.execute_reply.started": "2021-12-13T19:47:31.021720Z"
    }
   },
   "outputs": [],
   "source": [
    "import os \n",
    "import time \n",
    "import pandas as pd\n",
    "import numpy as np\n",
    "import matplotlib.pyplot as plt\n",
    "import seaborn as sns\n",
    "from sklearn.model_selection import train_test_split\n",
    "from sklearn import  metrics\n",
    "import gensim\n",
    "import re"
   ]
  },
  {
   "cell_type": "code",
   "execution_count": 2,
   "metadata": {
    "execution": {
     "iopub.execute_input": "2021-12-13T18:23:12.645363Z",
     "iopub.status.busy": "2021-12-13T18:23:12.645070Z",
     "iopub.status.idle": "2021-12-13T18:23:18.736280Z",
     "shell.execute_reply": "2021-12-13T18:23:18.735428Z",
     "shell.execute_reply.started": "2021-12-13T18:23:12.645331Z"
    }
   },
   "outputs": [
    {
     "name": "stdout",
     "output_type": "stream",
     "text": [
      "Device :  cpu\n"
     ]
    }
   ],
   "source": [
    "import torch \n",
    "import torch.nn as nn\n",
    "import tensorflow as tf\n",
    "from torch.utils.data import DataLoader, Dataset\n",
    "\n",
    "torch.manual_seed(42);\n",
    "device = ('cuda' if torch.cuda.is_available() else 'cpu')\n",
    "print('Device : ', device)"
   ]
  },
  {
   "cell_type": "markdown",
   "metadata": {},
   "source": [
    "## Data Wrangling"
   ]
  },
  {
   "cell_type": "code",
   "execution_count": 10,
   "metadata": {
    "execution": {
     "iopub.execute_input": "2021-12-13T18:26:22.228332Z",
     "iopub.status.busy": "2021-12-13T18:26:22.227424Z",
     "iopub.status.idle": "2021-12-13T18:26:22.421632Z",
     "shell.execute_reply": "2021-12-13T18:26:22.420666Z",
     "shell.execute_reply.started": "2021-12-13T18:26:22.228291Z"
    }
   },
   "outputs": [],
   "source": [
    "df_pos = pd.read_csv('../input/arabic-sentiment-twitter-corpus/train_Arabic_tweets_positive_20190413.tsv', sep= '\\t', header= None, names = ['label','tweet'])\n",
    "df_neg = pd.read_csv('../input/arabic-sentiment-twitter-corpus/train_Arabic_tweets_negative_20190413.tsv', sep= '\\t', header= None, names = ['label','tweet'])"
   ]
  },
  {
   "cell_type": "code",
   "execution_count": 14,
   "metadata": {
    "execution": {
     "iopub.execute_input": "2021-12-13T18:26:46.971576Z",
     "iopub.status.busy": "2021-12-13T18:26:46.971149Z",
     "iopub.status.idle": "2021-12-13T18:26:46.982545Z",
     "shell.execute_reply": "2021-12-13T18:26:46.981496Z",
     "shell.execute_reply.started": "2021-12-13T18:26:46.971483Z"
    }
   },
   "outputs": [
    {
     "data": {
      "text/html": [
       "<div>\n",
       "<style scoped>\n",
       "    .dataframe tbody tr th:only-of-type {\n",
       "        vertical-align: middle;\n",
       "    }\n",
       "\n",
       "    .dataframe tbody tr th {\n",
       "        vertical-align: top;\n",
       "    }\n",
       "\n",
       "    .dataframe thead th {\n",
       "        text-align: right;\n",
       "    }\n",
       "</style>\n",
       "<table border=\"1\" class=\"dataframe\">\n",
       "  <thead>\n",
       "    <tr style=\"text-align: right;\">\n",
       "      <th></th>\n",
       "      <th>label</th>\n",
       "      <th>tweet</th>\n",
       "    </tr>\n",
       "  </thead>\n",
       "  <tbody>\n",
       "    <tr>\n",
       "      <th>0</th>\n",
       "      <td>pos</td>\n",
       "      <td>نحن الذين يتحول كل ما نود أن نقوله إلى دعاء لل...</td>\n",
       "    </tr>\n",
       "    <tr>\n",
       "      <th>1</th>\n",
       "      <td>pos</td>\n",
       "      <td>وفي النهاية لن يبقىٰ معك آحدإلا من رأىٰ الجمال...</td>\n",
       "    </tr>\n",
       "    <tr>\n",
       "      <th>2</th>\n",
       "      <td>pos</td>\n",
       "      <td>من الخير نفسه 💛</td>\n",
       "    </tr>\n",
       "    <tr>\n",
       "      <th>3</th>\n",
       "      <td>pos</td>\n",
       "      <td>#زلزل_الملعب_نصرنا_بيلعب كن عالي الهمه ولا ترض...</td>\n",
       "    </tr>\n",
       "    <tr>\n",
       "      <th>4</th>\n",
       "      <td>pos</td>\n",
       "      <td>الشيء الوحيد الذي وصلوا فيه للعالمية هو : المس...</td>\n",
       "    </tr>\n",
       "  </tbody>\n",
       "</table>\n",
       "</div>"
      ],
      "text/plain": [
       "  label                                              tweet\n",
       "0   pos  نحن الذين يتحول كل ما نود أن نقوله إلى دعاء لل...\n",
       "1   pos  وفي النهاية لن يبقىٰ معك آحدإلا من رأىٰ الجمال...\n",
       "2   pos                                    من الخير نفسه 💛\n",
       "3   pos  #زلزل_الملعب_نصرنا_بيلعب كن عالي الهمه ولا ترض...\n",
       "4   pos  الشيء الوحيد الذي وصلوا فيه للعالمية هو : المس..."
      ]
     },
     "execution_count": 14,
     "metadata": {},
     "output_type": "execute_result"
    }
   ],
   "source": [
    "df_pos.head()  "
   ]
  },
  {
   "cell_type": "code",
   "execution_count": 12,
   "metadata": {
    "execution": {
     "iopub.execute_input": "2021-12-13T18:26:37.223090Z",
     "iopub.status.busy": "2021-12-13T18:26:37.222751Z",
     "iopub.status.idle": "2021-12-13T18:26:37.233727Z",
     "shell.execute_reply": "2021-12-13T18:26:37.232901Z",
     "shell.execute_reply.started": "2021-12-13T18:26:37.223048Z"
    }
   },
   "outputs": [
    {
     "data": {
      "text/html": [
       "<div>\n",
       "<style scoped>\n",
       "    .dataframe tbody tr th:only-of-type {\n",
       "        vertical-align: middle;\n",
       "    }\n",
       "\n",
       "    .dataframe tbody tr th {\n",
       "        vertical-align: top;\n",
       "    }\n",
       "\n",
       "    .dataframe thead th {\n",
       "        text-align: right;\n",
       "    }\n",
       "</style>\n",
       "<table border=\"1\" class=\"dataframe\">\n",
       "  <thead>\n",
       "    <tr style=\"text-align: right;\">\n",
       "      <th></th>\n",
       "      <th>label</th>\n",
       "      <th>tweet</th>\n",
       "    </tr>\n",
       "  </thead>\n",
       "  <tbody>\n",
       "    <tr>\n",
       "      <th>0</th>\n",
       "      <td>neg</td>\n",
       "      <td>اعترف ان بتس كانو شوي شوي يجيبو راسي لكن اليوم...</td>\n",
       "    </tr>\n",
       "    <tr>\n",
       "      <th>1</th>\n",
       "      <td>neg</td>\n",
       "      <td>توقعت اذا جات داريا بشوفهم كاملين بس لي للحين ...</td>\n",
       "    </tr>\n",
       "    <tr>\n",
       "      <th>2</th>\n",
       "      <td>neg</td>\n",
       "      <td>#الاهلي_الهلال اكتب توقعك لنتيجة لقاء الهلال و...</td>\n",
       "    </tr>\n",
       "    <tr>\n",
       "      <th>3</th>\n",
       "      <td>neg</td>\n",
       "      <td>نعمة المضادات الحيوية . تضع قطرة💧مضاد بنسلين ع...</td>\n",
       "    </tr>\n",
       "    <tr>\n",
       "      <th>4</th>\n",
       "      <td>neg</td>\n",
       "      <td>الدودو جايه تكمل علي 💔</td>\n",
       "    </tr>\n",
       "  </tbody>\n",
       "</table>\n",
       "</div>"
      ],
      "text/plain": [
       "  label                                              tweet\n",
       "0   neg  اعترف ان بتس كانو شوي شوي يجيبو راسي لكن اليوم...\n",
       "1   neg  توقعت اذا جات داريا بشوفهم كاملين بس لي للحين ...\n",
       "2   neg  #الاهلي_الهلال اكتب توقعك لنتيجة لقاء الهلال و...\n",
       "3   neg  نعمة المضادات الحيوية . تضع قطرة💧مضاد بنسلين ع...\n",
       "4   neg                             الدودو جايه تكمل علي 💔"
      ]
     },
     "execution_count": 12,
     "metadata": {},
     "output_type": "execute_result"
    }
   ],
   "source": [
    "df_neg.head()"
   ]
  },
  {
   "cell_type": "code",
   "execution_count": 47,
   "metadata": {
    "execution": {
     "iopub.execute_input": "2021-12-13T18:44:17.479451Z",
     "iopub.status.busy": "2021-12-13T18:44:17.478773Z",
     "iopub.status.idle": "2021-12-13T18:44:17.493103Z",
     "shell.execute_reply": "2021-12-13T18:44:17.492506Z",
     "shell.execute_reply.started": "2021-12-13T18:44:17.479418Z"
    }
   },
   "outputs": [],
   "source": [
    "##-- concat and shuffle\n",
    "df_train = pd.concat([df_pos,df_neg],axis = 0).sample(frac = 1.0)"
   ]
  },
  {
   "cell_type": "code",
   "execution_count": 52,
   "metadata": {
    "execution": {
     "iopub.execute_input": "2021-12-13T18:45:29.536219Z",
     "iopub.status.busy": "2021-12-13T18:45:29.535619Z",
     "iopub.status.idle": "2021-12-13T18:45:29.565586Z",
     "shell.execute_reply": "2021-12-13T18:45:29.564480Z",
     "shell.execute_reply.started": "2021-12-13T18:45:29.536170Z"
    }
   },
   "outputs": [
    {
     "name": "stdout",
     "output_type": "stream",
     "text": [
      "<class 'pandas.core.frame.DataFrame'>\n",
      "Int64Index: 45275 entries, 19317 to 11681\n",
      "Data columns (total 3 columns):\n",
      " #   Column  Non-Null Count  Dtype \n",
      "---  ------  --------------  ----- \n",
      " 0   label   45275 non-null  object\n",
      " 1   tweet   45275 non-null  object\n",
      " 2   target  45275 non-null  int64 \n",
      "dtypes: int64(1), object(2)\n",
      "memory usage: 1.4+ MB\n"
     ]
    }
   ],
   "source": [
    "df_train['target'] = df_train['label'].map({'pos':1,'neg':0},)\n",
    "df_train.info()"
   ]
  },
  {
   "cell_type": "code",
   "execution_count": 55,
   "metadata": {
    "execution": {
     "iopub.execute_input": "2021-12-13T18:46:05.146401Z",
     "iopub.status.busy": "2021-12-13T18:46:05.146090Z",
     "iopub.status.idle": "2021-12-13T18:46:05.162981Z",
     "shell.execute_reply": "2021-12-13T18:46:05.162151Z",
     "shell.execute_reply.started": "2021-12-13T18:46:05.146351Z"
    }
   },
   "outputs": [
    {
     "data": {
      "text/plain": [
       "label     0\n",
       "tweet     0\n",
       "target    0\n",
       "dtype: int64"
      ]
     },
     "execution_count": 55,
     "metadata": {},
     "output_type": "execute_result"
    }
   ],
   "source": [
    "#-- no nulls\n",
    "df_train.isna().sum()"
   ]
  },
  {
   "cell_type": "code",
   "execution_count": 56,
   "metadata": {
    "execution": {
     "iopub.execute_input": "2021-12-13T18:46:08.072019Z",
     "iopub.status.busy": "2021-12-13T18:46:08.071373Z",
     "iopub.status.idle": "2021-12-13T18:46:08.079544Z",
     "shell.execute_reply": "2021-12-13T18:46:08.078720Z",
     "shell.execute_reply.started": "2021-12-13T18:46:08.071966Z"
    }
   },
   "outputs": [
    {
     "data": {
      "text/plain": [
       "1    22761\n",
       "0    22514\n",
       "Name: target, dtype: int64"
      ]
     },
     "execution_count": 56,
     "metadata": {},
     "output_type": "execute_result"
    }
   ],
   "source": [
    "#-- ~ balanced target\n",
    "df_train['target'].value_counts()"
   ]
  },
  {
   "cell_type": "markdown",
   "metadata": {},
   "source": [
    "## Tokenization"
   ]
  },
  {
   "cell_type": "code",
   "execution_count": 62,
   "metadata": {
    "execution": {
     "iopub.execute_input": "2021-12-13T18:55:26.408599Z",
     "iopub.status.busy": "2021-12-13T18:55:26.407393Z",
     "iopub.status.idle": "2021-12-13T18:55:27.726083Z",
     "shell.execute_reply": "2021-12-13T18:55:27.725050Z",
     "shell.execute_reply.started": "2021-12-13T18:55:26.408549Z"
    }
   },
   "outputs": [],
   "source": [
    "tokenizer = tf.keras.preprocessing.text.Tokenizer()\n",
    "tokenizer.fit_on_texts(df_train['tweet'].values.tolist())"
   ]
  },
  {
   "cell_type": "code",
   "execution_count": 63,
   "metadata": {
    "execution": {
     "iopub.execute_input": "2021-12-13T18:55:32.052416Z",
     "iopub.status.busy": "2021-12-13T18:55:32.052096Z",
     "iopub.status.idle": "2021-12-13T18:55:32.062877Z",
     "shell.execute_reply": "2021-12-13T18:55:32.061974Z",
     "shell.execute_reply.started": "2021-12-13T18:55:32.052360Z"
    }
   },
   "outputs": [
    {
     "name": "stdout",
     "output_type": "stream",
     "text": [
      "n of documents:  45275\n",
      "Index :  1 , word :  من , Frequency :  10435\n",
      "Index :  2 , word :  في , Frequency :  7564\n",
      "Index :  3 , word :  الله , Frequency :  6671\n",
      "Index :  4 , word :  و , Frequency :  5357\n",
      "Index :  5 , word :  على , Frequency :  5027\n",
      "Index :  6 , word :  💔 , Frequency :  4909\n"
     ]
    }
   ],
   "source": [
    "#--- view number of documents\n",
    "print('n of documents: ' , tokenizer.document_count)\n",
    "\n",
    "#--- view tokens\n",
    "for i in tokenizer.index_word.keys():\n",
    "    index = i\n",
    "    word = tokenizer.index_word[i]\n",
    "    frequency = tokenizer.word_counts[word]\n",
    "    print( 'Index : ', i,', word : ', word  , ', Frequency : ', frequency)\n",
    "    if i > 5:\n",
    "        break"
   ]
  },
  {
   "cell_type": "markdown",
   "metadata": {},
   "source": [
    "**Text Data to padded sequences**"
   ]
  },
  {
   "cell_type": "code",
   "execution_count": 90,
   "metadata": {
    "execution": {
     "iopub.execute_input": "2021-12-13T19:04:13.518186Z",
     "iopub.status.busy": "2021-12-13T19:04:13.517454Z",
     "iopub.status.idle": "2021-12-13T19:04:13.569404Z",
     "shell.execute_reply": "2021-12-13T19:04:13.568533Z",
     "shell.execute_reply.started": "2021-12-13T19:04:13.518138Z"
    }
   },
   "outputs": [
    {
     "data": {
      "text/html": [
       "<div>\n",
       "<style scoped>\n",
       "    .dataframe tbody tr th:only-of-type {\n",
       "        vertical-align: middle;\n",
       "    }\n",
       "\n",
       "    .dataframe tbody tr th {\n",
       "        vertical-align: top;\n",
       "    }\n",
       "\n",
       "    .dataframe thead tr th {\n",
       "        text-align: left;\n",
       "    }\n",
       "\n",
       "    .dataframe thead tr:last-of-type th {\n",
       "        text-align: right;\n",
       "    }\n",
       "</style>\n",
       "<table border=\"1\" class=\"dataframe\">\n",
       "  <thead>\n",
       "    <tr>\n",
       "      <th></th>\n",
       "      <th colspan=\"5\" halign=\"left\">tweet_length</th>\n",
       "    </tr>\n",
       "    <tr>\n",
       "      <th></th>\n",
       "      <th>min</th>\n",
       "      <th>mean</th>\n",
       "      <th>median</th>\n",
       "      <th>max</th>\n",
       "      <th>count</th>\n",
       "    </tr>\n",
       "    <tr>\n",
       "      <th>label</th>\n",
       "      <th></th>\n",
       "      <th></th>\n",
       "      <th></th>\n",
       "      <th></th>\n",
       "      <th></th>\n",
       "    </tr>\n",
       "  </thead>\n",
       "  <tbody>\n",
       "    <tr>\n",
       "      <th>neg</th>\n",
       "      <td>5</td>\n",
       "      <td>63.854579</td>\n",
       "      <td>58.0</td>\n",
       "      <td>5943</td>\n",
       "      <td>22514</td>\n",
       "    </tr>\n",
       "    <tr>\n",
       "      <th>pos</th>\n",
       "      <td>6</td>\n",
       "      <td>71.446729</td>\n",
       "      <td>68.0</td>\n",
       "      <td>8109</td>\n",
       "      <td>22761</td>\n",
       "    </tr>\n",
       "  </tbody>\n",
       "</table>\n",
       "</div>"
      ],
      "text/plain": [
       "      tweet_length                               \n",
       "               min       mean median   max  count\n",
       "label                                            \n",
       "neg              5  63.854579   58.0  5943  22514\n",
       "pos              6  71.446729   68.0  8109  22761"
      ]
     },
     "execution_count": 90,
     "metadata": {},
     "output_type": "execute_result"
    }
   ],
   "source": [
    "#-- tweet statistics\n",
    "df_train['tweet_length'] = df_train['tweet'].str.len()\n",
    "df_train.groupby('label',axis=0).agg({'tweet_length':  ['min','mean','median','max','count']})"
   ]
  },
  {
   "cell_type": "code",
   "execution_count": 91,
   "metadata": {
    "execution": {
     "iopub.execute_input": "2021-12-13T19:04:25.382845Z",
     "iopub.status.busy": "2021-12-13T19:04:25.382577Z",
     "iopub.status.idle": "2021-12-13T19:04:26.751125Z",
     "shell.execute_reply": "2021-12-13T19:04:26.750221Z",
     "shell.execute_reply.started": "2021-12-13T19:04:25.382816Z"
    }
   },
   "outputs": [],
   "source": [
    "MAX_LENGTH = 128\n",
    "reviews_sequences = tokenizer.texts_to_sequences(df_train['tweet'].values)\n",
    "reviews_padded = tf.keras.preprocessing.sequence.pad_sequences(reviews_sequences, maxlen=MAX_LENGTH )"
   ]
  },
  {
   "cell_type": "code",
   "execution_count": 96,
   "metadata": {
    "execution": {
     "iopub.execute_input": "2021-12-13T19:05:32.929952Z",
     "iopub.status.busy": "2021-12-13T19:05:32.929472Z",
     "iopub.status.idle": "2021-12-13T19:05:32.935968Z",
     "shell.execute_reply": "2021-12-13T19:05:32.934875Z",
     "shell.execute_reply.started": "2021-12-13T19:05:32.929904Z"
    }
   },
   "outputs": [
    {
     "data": {
      "text/plain": [
       "array([    0,     0,     0,     0,     0,     0,     0,     0,     0,\n",
       "           0,     0,     0,     0,     0,     0,     0,     0,     0,\n",
       "           0,     0,     0,     0,     0,     0,     0,     0,     0,\n",
       "           0,     0,     0,     0,     0,     0,     0,     0,     0,\n",
       "           0,     0,     0,     0,     0,     0,     0,     0,     0,\n",
       "           0,     0,     0,     0,     0,     0,     0,     0,     0,\n",
       "           0,     0,     0,     0,     0,     0,     0,     0,     0,\n",
       "           0,     0,     0,     0,     0,     0,     0,     0,     0,\n",
       "           0,     0,     0,     0,     0,     0,     0,     0,     0,\n",
       "           0,     0,     0,     0,     0,     0,     0,     0,     0,\n",
       "           0,     0,     0,     0,     0,     0,     0,     0,     0,\n",
       "           0,    52,    52,    52,    52,    52,    52,    52,    10,\n",
       "           3,    13,    10, 36897, 36898,   370,  9936,   132,  1149,\n",
       "       36899, 36900, 18988,    52,    52,    52,    52,    52,    52,\n",
       "          52,    52], dtype=int32)"
      ]
     },
     "execution_count": 96,
     "metadata": {},
     "output_type": "execute_result"
    }
   ],
   "source": [
    "reviews_padded[911]"
   ]
  },
  {
   "cell_type": "code",
   "execution_count": 98,
   "metadata": {
    "execution": {
     "iopub.execute_input": "2021-12-13T19:06:19.512221Z",
     "iopub.status.busy": "2021-12-13T19:06:19.511907Z",
     "iopub.status.idle": "2021-12-13T19:06:19.564722Z",
     "shell.execute_reply": "2021-12-13T19:06:19.563766Z",
     "shell.execute_reply.started": "2021-12-13T19:06:19.512176Z"
    }
   },
   "outputs": [],
   "source": [
    "#-- train, validation split\n",
    "X_train, X_valid, y_train, y_valid = train_test_split(np.array(reviews_padded), df_train['target'].values, stratify = df_train['target'].values, test_size=0.15, random_state=42)"
   ]
  },
  {
   "cell_type": "code",
   "execution_count": 100,
   "metadata": {
    "execution": {
     "iopub.execute_input": "2021-12-13T19:06:33.416205Z",
     "iopub.status.busy": "2021-12-13T19:06:33.415498Z",
     "iopub.status.idle": "2021-12-13T19:06:33.423678Z",
     "shell.execute_reply": "2021-12-13T19:06:33.422558Z",
     "shell.execute_reply.started": "2021-12-13T19:06:33.416161Z"
    }
   },
   "outputs": [
    {
     "data": {
      "text/plain": [
       "('Train: ', (38483, 128), (38483,), ' |Test: ', (6792, 128), (6792,))"
      ]
     },
     "execution_count": 100,
     "metadata": {},
     "output_type": "execute_result"
    }
   ],
   "source": [
    "#-- split count\n",
    "'Train: ', X_train.shape ,y_train.shape,' |Test: ', X_valid.shape ,y_valid.shape"
   ]
  },
  {
   "cell_type": "code",
   "execution_count": 101,
   "metadata": {
    "execution": {
     "iopub.execute_input": "2021-12-13T19:06:49.869925Z",
     "iopub.status.busy": "2021-12-13T19:06:49.869300Z",
     "iopub.status.idle": "2021-12-13T19:06:49.876811Z",
     "shell.execute_reply": "2021-12-13T19:06:49.875906Z",
     "shell.execute_reply.started": "2021-12-13T19:06:49.869879Z"
    }
   },
   "outputs": [
    {
     "data": {
      "text/plain": [
       "(0.5027154847595042, 0.5027974087161367)"
      ]
     },
     "execution_count": 101,
     "metadata": {},
     "output_type": "execute_result"
    }
   ],
   "source": [
    "#-- labels balance\n",
    "y_train.sum() / len(y_train) , y_valid.sum() / len(y_valid) "
   ]
  },
  {
   "cell_type": "markdown",
   "metadata": {},
   "source": [
    "## Build Datset & Dataloader"
   ]
  },
  {
   "cell_type": "code",
   "execution_count": 110,
   "metadata": {
    "execution": {
     "iopub.execute_input": "2021-12-13T19:10:25.419189Z",
     "iopub.status.busy": "2021-12-13T19:10:25.418873Z",
     "iopub.status.idle": "2021-12-13T19:10:25.426031Z",
     "shell.execute_reply": "2021-12-13T19:10:25.425177Z",
     "shell.execute_reply.started": "2021-12-13T19:10:25.419159Z"
    }
   },
   "outputs": [],
   "source": [
    "class TwitterDataset(Dataset):\n",
    "    def __init__(self, tweets, targets):\n",
    "        super(TwitterDataset, self).__init__()\n",
    "        self.tweets = tweets\n",
    "        self.targets = targets\n",
    "        \n",
    "    def __len__(self):\n",
    "        return len(self.targets)\n",
    "    \n",
    "    def __getitem__(self, index):\n",
    "        tweet = self.tweets[index, :]\n",
    "        target = self.targets[index]\n",
    "        \n",
    "        return tweet, target"
   ]
  },
  {
   "cell_type": "markdown",
   "metadata": {
    "execution": {
     "iopub.execute_input": "2021-12-13T19:08:09.940426Z",
     "iopub.status.busy": "2021-12-13T19:08:09.939906Z",
     "iopub.status.idle": "2021-12-13T19:08:09.945084Z",
     "shell.execute_reply": "2021-12-13T19:08:09.944189Z",
     "shell.execute_reply.started": "2021-12-13T19:08:09.940349Z"
    }
   },
   "source": [
    "**Data Loader**"
   ]
  },
  {
   "cell_type": "code",
   "execution_count": 111,
   "metadata": {
    "execution": {
     "iopub.execute_input": "2021-12-13T19:10:27.246235Z",
     "iopub.status.busy": "2021-12-13T19:10:27.245627Z",
     "iopub.status.idle": "2021-12-13T19:10:27.254921Z",
     "shell.execute_reply": "2021-12-13T19:10:27.254098Z",
     "shell.execute_reply.started": "2021-12-13T19:10:27.246190Z"
    }
   },
   "outputs": [],
   "source": [
    "BATCH_SIZE = 64\n",
    "\n",
    "##-- Train\n",
    "train_dataset = TwitterDataset(tweets = X_train ,targets = y_train)\n",
    "train_loader = DataLoader(train_dataset, batch_size = BATCH_SIZE, shuffle = True)\n",
    "\n",
    "##-- Validation\n",
    "valid_dataset = TwitterDataset(tweets = X_valid ,targets = y_valid)\n",
    "valid_loader = DataLoader(valid_dataset, batch_size = BATCH_SIZE, shuffle = True)"
   ]
  },
  {
   "cell_type": "code",
   "execution_count": 108,
   "metadata": {
    "execution": {
     "iopub.execute_input": "2021-12-13T19:09:38.151720Z",
     "iopub.status.busy": "2021-12-13T19:09:38.151099Z",
     "iopub.status.idle": "2021-12-13T19:09:38.158841Z",
     "shell.execute_reply": "2021-12-13T19:09:38.157780Z",
     "shell.execute_reply.started": "2021-12-13T19:09:38.151668Z"
    }
   },
   "outputs": [
    {
     "data": {
      "text/plain": [
       "(602, 107)"
      ]
     },
     "execution_count": 108,
     "metadata": {},
     "output_type": "execute_result"
    }
   ],
   "source": [
    "len(train_loader), len(valid_loader)"
   ]
  },
  {
   "cell_type": "code",
   "execution_count": 113,
   "metadata": {
    "execution": {
     "iopub.execute_input": "2021-12-13T19:10:40.455939Z",
     "iopub.status.busy": "2021-12-13T19:10:40.455199Z",
     "iopub.status.idle": "2021-12-13T19:10:40.467708Z",
     "shell.execute_reply": "2021-12-13T19:10:40.467073Z",
     "shell.execute_reply.started": "2021-12-13T19:10:40.455898Z"
    }
   },
   "outputs": [
    {
     "name": "stdout",
     "output_type": "stream",
     "text": [
      "tensor([    0,     0,     0,     0,     0,     0,     0,     0,     0,     0,\n",
      "            0,     0,     0,     0,     0,     0,     0,     0,     0,     0,\n",
      "            0,     0,     0,     0,     0,     0,     0,     0,     0,     0,\n",
      "            0,     0,     0,     0,     0,     0,     0,     0,     0,     0,\n",
      "            0,     0,     0,     0,     0,     0,     0,     0,     0,     0,\n",
      "            0,     0,     0,     0,     0,     0,     0,     0,     0,     0,\n",
      "            0,     0,     0,     0,     0,     0,     0,     0,     0,     0,\n",
      "            0,     0,     0,     0,     0,     0,     0,     0,     0,     0,\n",
      "            0,     0,     0,     0,     0,     0,     0,     0,     0,     0,\n",
      "            0,     0,     0,     0,     0,     0,     0,     0,     0,     0,\n",
      "            0,     0,     0,     0,     0,     0,     0,     0,     0,     0,\n",
      "            0,     0,     0,     0,     0,     0,     0,     0,     0,    48,\n",
      "        53343,  2994,  3154,     6,   916,  6133,   906,  7343],\n",
      "       dtype=torch.int32) tensor(0)\n"
     ]
    }
   ],
   "source": [
    "#-- sanity check\n",
    "for (tweet, target) in train_loader:\n",
    "    print(tweet[0], target[0])\n",
    "    break"
   ]
  },
  {
   "cell_type": "markdown",
   "metadata": {},
   "source": [
    "## Word Embeddings"
   ]
  },
  {
   "cell_type": "code",
   "execution_count": 118,
   "metadata": {
    "execution": {
     "iopub.execute_input": "2021-12-13T19:24:09.874246Z",
     "iopub.status.busy": "2021-12-13T19:24:09.873914Z",
     "iopub.status.idle": "2021-12-13T19:24:37.328452Z",
     "shell.execute_reply": "2021-12-13T19:24:37.327725Z",
     "shell.execute_reply.started": "2021-12-13T19:24:09.874215Z"
    }
   },
   "outputs": [
    {
     "name": "stdout",
     "output_type": "stream",
     "text": [
      "--2021-12-13 19:24:10--  https://www.dropbox.com/s/ce9phmmawoe1ure/Twt-CBOW.zip?dl=0\n",
      "Resolving www.dropbox.com (www.dropbox.com)... 162.125.9.18, 2620:100:601f:18::a27d:912\n",
      "Connecting to www.dropbox.com (www.dropbox.com)|162.125.9.18|:443... connected.\n",
      "HTTP request sent, awaiting response... 301 Moved Permanently\n",
      "Location: /s/raw/ce9phmmawoe1ure/Twt-CBOW.zip [following]\n",
      "--2021-12-13 19:24:11--  https://www.dropbox.com/s/raw/ce9phmmawoe1ure/Twt-CBOW.zip\n",
      "Reusing existing connection to www.dropbox.com:443.\n",
      "HTTP request sent, awaiting response... 302 Found\n",
      "Location: https://uc882c0656feeca1e0ef858cdfa9.dl.dropboxusercontent.com/cd/0/inline/Bbz_ftFdZBFA9rUm62pWwoT0euU7KCKRxTSrEWWXxYNWH5rYNAS40RlL3pQYCZ9Sg24Cg4WR_eYu17hdQ8FHcfBuVPc6yLMBG1Mqs4x1UzNigxcSnEcdreyjrDRZ3u2hSNosDdI6Gqn93p2mHsN1-Oty/file# [following]\n",
      "--2021-12-13 19:24:12--  https://uc882c0656feeca1e0ef858cdfa9.dl.dropboxusercontent.com/cd/0/inline/Bbz_ftFdZBFA9rUm62pWwoT0euU7KCKRxTSrEWWXxYNWH5rYNAS40RlL3pQYCZ9Sg24Cg4WR_eYu17hdQ8FHcfBuVPc6yLMBG1Mqs4x1UzNigxcSnEcdreyjrDRZ3u2hSNosDdI6Gqn93p2mHsN1-Oty/file\n",
      "Resolving uc882c0656feeca1e0ef858cdfa9.dl.dropboxusercontent.com (uc882c0656feeca1e0ef858cdfa9.dl.dropboxusercontent.com)... 162.125.9.15, 2620:100:601f:15::a27d:90f\n",
      "Connecting to uc882c0656feeca1e0ef858cdfa9.dl.dropboxusercontent.com (uc882c0656feeca1e0ef858cdfa9.dl.dropboxusercontent.com)|162.125.9.15|:443... connected.\n",
      "HTTP request sent, awaiting response... 302 Found\n",
      "Location: /cd/0/inline2/BbyTerlPdOBjEZZ8tGrKz1TIGiwdls5xf1pIt7uTSP-OJayZ8gkTXaQqoqhhS9uqFwSmDif7mI4kgg8wi74ys0IKJKTl90tnoo8TRjI6OHvP6Ci2tK-QNWvxRp6ND2re7jc9PF0iX01jbB5cHZPA0nUPMkyc-2-cxO9Q0CmMCZlD7ZQA5HYElppcw--s3KtFw2TJXadezpaEWLMMCdZsVDmGYPgNmODGQszgTU_qog0LhDwyvJkvQu9-woBF70DrvNDAaMoYRDv__D6zHxGXS-yeQbwUPRsL_34b1ZI5R9OJA_VZBlpJTcI5LwLloKY2f5RWDRjiM0OMRZKtTsOL7P7g80iXfN7FFJ2lowUOKz4y3mvKkZyJML9f7TpqCHtl6EE/file [following]\n",
      "--2021-12-13 19:24:13--  https://uc882c0656feeca1e0ef858cdfa9.dl.dropboxusercontent.com/cd/0/inline2/BbyTerlPdOBjEZZ8tGrKz1TIGiwdls5xf1pIt7uTSP-OJayZ8gkTXaQqoqhhS9uqFwSmDif7mI4kgg8wi74ys0IKJKTl90tnoo8TRjI6OHvP6Ci2tK-QNWvxRp6ND2re7jc9PF0iX01jbB5cHZPA0nUPMkyc-2-cxO9Q0CmMCZlD7ZQA5HYElppcw--s3KtFw2TJXadezpaEWLMMCdZsVDmGYPgNmODGQszgTU_qog0LhDwyvJkvQu9-woBF70DrvNDAaMoYRDv__D6zHxGXS-yeQbwUPRsL_34b1ZI5R9OJA_VZBlpJTcI5LwLloKY2f5RWDRjiM0OMRZKtTsOL7P7g80iXfN7FFJ2lowUOKz4y3mvKkZyJML9f7TpqCHtl6EE/file\n",
      "Reusing existing connection to uc882c0656feeca1e0ef858cdfa9.dl.dropboxusercontent.com:443.\n",
      "HTTP request sent, awaiting response... 200 OK\n",
      "Length: 369123021 (352M) [application/zip]\n",
      "Saving to: ‘Twt-CBOW.zip?dl=0’\n",
      "\n",
      "Twt-CBOW.zip?dl=0   100%[===================>] 352.02M  17.0MB/s    in 23s     \n",
      "\n",
      "2021-12-13 19:24:37 (15.0 MB/s) - ‘Twt-CBOW.zip?dl=0’ saved [369123021/369123021]\n",
      "\n"
     ]
    }
   ],
   "source": [
    "#-- using AraVec https://github.com/bakrianoo/aravec \n",
    "#-- using AraVec 1.0 for fast download\n",
    "!wget https://www.dropbox.com/s/ce9phmmawoe1ure/Twt-CBOW.zip?dl=0"
   ]
  },
  {
   "cell_type": "code",
   "execution_count": 120,
   "metadata": {
    "execution": {
     "iopub.execute_input": "2021-12-13T19:25:44.293191Z",
     "iopub.status.busy": "2021-12-13T19:25:44.292864Z",
     "iopub.status.idle": "2021-12-13T19:25:49.434632Z",
     "shell.execute_reply": "2021-12-13T19:25:49.433677Z",
     "shell.execute_reply.started": "2021-12-13T19:25:44.293155Z"
    }
   },
   "outputs": [
    {
     "name": "stdout",
     "output_type": "stream",
     "text": [
      "Archive:  ./Twt-CBOW.zip?dl=0\n",
      "  inflating: Twt-CBOW                \n",
      "  inflating: Twt-CBOW.syn1neg.npy    \n",
      "  inflating: Twt-CBOW.wv.syn0.npy    \n"
     ]
    }
   ],
   "source": [
    "!unzip './Twt-CBOW.zip?dl=0' "
   ]
  },
  {
   "cell_type": "code",
   "execution_count": 121,
   "metadata": {
    "execution": {
     "iopub.execute_input": "2021-12-13T19:26:35.507539Z",
     "iopub.status.busy": "2021-12-13T19:26:35.506077Z",
     "iopub.status.idle": "2021-12-13T19:26:40.237017Z",
     "shell.execute_reply": "2021-12-13T19:26:40.236070Z",
     "shell.execute_reply.started": "2021-12-13T19:26:35.507490Z"
    }
   },
   "outputs": [],
   "source": [
    "# load the model\n",
    "model = gensim.models.Word2Vec.load('Twt-CBOW')"
   ]
  },
  {
   "cell_type": "markdown",
   "metadata": {},
   "source": [
    "## Build Embedding matrix"
   ]
  },
  {
   "cell_type": "code",
   "execution_count": 147,
   "metadata": {
    "execution": {
     "iopub.execute_input": "2021-12-13T19:35:58.872373Z",
     "iopub.status.busy": "2021-12-13T19:35:58.871955Z",
     "iopub.status.idle": "2021-12-13T19:35:58.880030Z",
     "shell.execute_reply": "2021-12-13T19:35:58.878919Z",
     "shell.execute_reply.started": "2021-12-13T19:35:58.872343Z"
    }
   },
   "outputs": [],
   "source": [
    "def build_embedding_matrix_gensim_model(word_index, pretrained_embedding, embedding_dimension = 300):\n",
    "    utilized_from_embedding = 0\n",
    "    embedding_matrix = np.zeros((len(word_index) + 1, embedding_dimension)) #-- + 1 for padding?\n",
    "    \n",
    "    for index, word in enumerate(word_index.keys()):\n",
    "        if pretrained_embedding.wv.has_index_for(word) : \n",
    "            embedding_matrix[index] = pretrained_embedding.wv[word]\n",
    "            utilized_from_embedding += 1\n",
    "            \n",
    "    print(f'Utilized from Pretrained Embedding : {utilized_from_embedding/len(word_index):0.02f} %')\n",
    "    return embedding_matrix"
   ]
  },
  {
   "cell_type": "code",
   "execution_count": 149,
   "metadata": {
    "execution": {
     "iopub.execute_input": "2021-12-13T19:37:07.971923Z",
     "iopub.status.busy": "2021-12-13T19:37:07.971603Z",
     "iopub.status.idle": "2021-12-13T19:37:08.470342Z",
     "shell.execute_reply": "2021-12-13T19:37:08.469472Z",
     "shell.execute_reply.started": "2021-12-13T19:37:07.971891Z"
    }
   },
   "outputs": [
    {
     "name": "stdout",
     "output_type": "stream",
     "text": [
      "Utilized from Pretrained Embedding : 0.50 %\n"
     ]
    },
    {
     "data": {
      "text/plain": [
       "(78652, 300)"
      ]
     },
     "execution_count": 149,
     "metadata": {},
     "output_type": "execute_result"
    }
   ],
   "source": [
    "embedding_matrix = build_embedding_matrix_gensim_model(tokenizer.word_index,model,300)\n",
    "embedding_matrix.shape"
   ]
  },
  {
   "cell_type": "markdown",
   "metadata": {},
   "source": [
    "## Model Building"
   ]
  },
  {
   "cell_type": "code",
   "execution_count": 150,
   "metadata": {
    "execution": {
     "iopub.execute_input": "2021-12-13T19:38:07.929429Z",
     "iopub.status.busy": "2021-12-13T19:38:07.929084Z",
     "iopub.status.idle": "2021-12-13T19:38:07.938672Z",
     "shell.execute_reply": "2021-12-13T19:38:07.937630Z",
     "shell.execute_reply.started": "2021-12-13T19:38:07.929367Z"
    }
   },
   "outputs": [],
   "source": [
    "class LSTM(nn.Module):\n",
    "    def __init__(self, embedding_matrix):\n",
    "        super(LSTM, self).__init__()\n",
    "        vocab_size = embedding_matrix.shape[0]\n",
    "        embedding_dim = embedding_matrix.shape[1]\n",
    "        \n",
    "        self.embedding = nn.Embedding(num_embeddings = vocab_size, embedding_dim = embedding_dim)\n",
    "        self.embedding.weight = nn.Parameter(torch.tensor(embedding_matrix, dtype=torch.float32))\n",
    "        self.embedding.weight.requires_grad = False #-- don't train\n",
    "        \n",
    "        self.lstm = nn.LSTM(embedding_dim, 128, bidirectional=True, batch_first=True)\n",
    "        \n",
    "        self.out = nn.Linear(512,1)\n",
    "        \n",
    "    def forward(self, x):\n",
    "        x = self.embedding(x)\n",
    "        \n",
    "        hidden, _ = self.lstm(x)\n",
    "        \n",
    "        avg_pool = torch.mean(hidden,1)\n",
    "        max_pool,_ = torch.max(hidden,1)\n",
    "        \n",
    "        out = torch.cat((avg_pool, max_pool), 1)\n",
    "        out = self.out(out)\n",
    "        return out"
   ]
  },
  {
   "cell_type": "code",
   "execution_count": 151,
   "metadata": {
    "execution": {
     "iopub.execute_input": "2021-12-13T19:38:10.784718Z",
     "iopub.status.busy": "2021-12-13T19:38:10.784451Z",
     "iopub.status.idle": "2021-12-13T19:38:11.115814Z",
     "shell.execute_reply": "2021-12-13T19:38:11.114858Z",
     "shell.execute_reply.started": "2021-12-13T19:38:10.784692Z"
    }
   },
   "outputs": [],
   "source": [
    "model = LSTM(embedding_matrix).to(device)"
   ]
  },
  {
   "cell_type": "code",
   "execution_count": 152,
   "metadata": {
    "execution": {
     "iopub.execute_input": "2021-12-13T19:38:13.342970Z",
     "iopub.status.busy": "2021-12-13T19:38:13.342190Z",
     "iopub.status.idle": "2021-12-13T19:38:13.641120Z",
     "shell.execute_reply": "2021-12-13T19:38:13.640088Z",
     "shell.execute_reply.started": "2021-12-13T19:38:13.342927Z"
    }
   },
   "outputs": [
    {
     "name": "stdout",
     "output_type": "stream",
     "text": [
      "tensor([-0.4108], grad_fn=<SelectBackward>)\n"
     ]
    }
   ],
   "source": [
    "##-- model check\n",
    "for tweet,target in train_loader:\n",
    "    print(model(tweet.to(device))[0])\n",
    "    break"
   ]
  },
  {
   "cell_type": "markdown",
   "metadata": {},
   "source": [
    "## Training & Evaluation"
   ]
  },
  {
   "cell_type": "code",
   "execution_count": 154,
   "metadata": {
    "execution": {
     "iopub.execute_input": "2021-12-13T19:39:02.167800Z",
     "iopub.status.busy": "2021-12-13T19:39:02.167507Z",
     "iopub.status.idle": "2021-12-13T19:39:02.172164Z",
     "shell.execute_reply": "2021-12-13T19:39:02.171485Z",
     "shell.execute_reply.started": "2021-12-13T19:39:02.167760Z"
    }
   },
   "outputs": [],
   "source": [
    "optimizer = torch.optim.Adam(model.parameters(), lr= 1e-4)\n",
    "criterion = nn.BCEWithLogitsLoss()"
   ]
  },
  {
   "cell_type": "code",
   "execution_count": 153,
   "metadata": {
    "execution": {
     "iopub.execute_input": "2021-12-13T19:38:59.449829Z",
     "iopub.status.busy": "2021-12-13T19:38:59.449529Z",
     "iopub.status.idle": "2021-12-13T19:38:59.456297Z",
     "shell.execute_reply": "2021-12-13T19:38:59.455296Z",
     "shell.execute_reply.started": "2021-12-13T19:38:59.449796Z"
    }
   },
   "outputs": [],
   "source": [
    "def train(model, dataloader):\n",
    "    model.train()\n",
    "    \n",
    "    for reviews, labels in dataloader:\n",
    "        reviews = reviews.to(device, dtype=torch.long)\n",
    "        labels  = labels.to(device, dtype=torch.float)\n",
    "        \n",
    "        predictions = model(reviews)\n",
    "        \n",
    "        loss = criterion(predictions, labels.view(-1,1))\n",
    "        \n",
    "        optimizer.zero_grad()\n",
    "        loss.backward()\n",
    "        optimizer.step()"
   ]
  },
  {
   "cell_type": "code",
   "execution_count": 155,
   "metadata": {
    "execution": {
     "iopub.execute_input": "2021-12-13T19:39:04.092880Z",
     "iopub.status.busy": "2021-12-13T19:39:04.092398Z",
     "iopub.status.idle": "2021-12-13T19:39:04.100257Z",
     "shell.execute_reply": "2021-12-13T19:39:04.099417Z",
     "shell.execute_reply.started": "2021-12-13T19:39:04.092832Z"
    }
   },
   "outputs": [],
   "source": [
    "def evaluate(model, dataloader):\n",
    "    model.eval()\n",
    "    \n",
    "    targets = []\n",
    "    model_predictions = []\n",
    "    with torch.no_grad():\n",
    "        for reviews, labels in dataloader:\n",
    "\n",
    "            reviews = reviews.to(device, dtype=torch.long)\n",
    "            predictions = model(reviews).cpu().numpy().tolist()\n",
    "            \n",
    "            model_predictions.extend(predictions)\n",
    "            \n",
    "            labels  = labels.cpu().numpy().tolist()\n",
    "            targets.extend(labels)\n",
    "           \n",
    "    return model_predictions, targets"
   ]
  },
  {
   "cell_type": "code",
   "execution_count": 195,
   "metadata": {
    "execution": {
     "iopub.execute_input": "2021-12-13T20:06:10.286505Z",
     "iopub.status.busy": "2021-12-13T20:06:10.286145Z",
     "iopub.status.idle": "2021-12-13T20:11:33.512266Z",
     "shell.execute_reply": "2021-12-13T20:11:33.511149Z",
     "shell.execute_reply.started": "2021-12-13T20:06:10.286468Z"
    }
   },
   "outputs": [
    {
     "name": "stdout",
     "output_type": "stream",
     "text": [
      "epoch: 0, accuracy_score: 0.8471731448763251\n",
      "epoch: 1, accuracy_score: 0.8274440518256773\n",
      "epoch: 2, accuracy_score: 0.8530624263839811\n",
      "epoch: 3, accuracy_score: 0.8228798586572438\n",
      "epoch: 4, accuracy_score: 0.8671967020023557\n"
     ]
    }
   ],
   "source": [
    "MAX_EPOCHS = 5\n",
    "for epoch in range(MAX_EPOCHS):\n",
    "        train(model, train_loader) \n",
    "        model_predictions, targets = evaluate(model, valid_loader)\n",
    "        \n",
    "        outputs = np.array(model_predictions) >= 0.5\n",
    "\n",
    "        accuracy = metrics.accuracy_score(targets, outputs)\n",
    "        print(f'epoch: {epoch}, accuracy_score: {accuracy}')"
   ]
  },
  {
   "cell_type": "code",
   "execution_count": 205,
   "metadata": {
    "execution": {
     "iopub.execute_input": "2021-12-13T20:26:15.616901Z",
     "iopub.status.busy": "2021-12-13T20:26:15.616597Z",
     "iopub.status.idle": "2021-12-13T20:26:15.622836Z",
     "shell.execute_reply": "2021-12-13T20:26:15.622096Z",
     "shell.execute_reply.started": "2021-12-13T20:26:15.616866Z"
    }
   },
   "outputs": [],
   "source": [
    "def infer(sentence):\n",
    "    model.eval()\n",
    "    sentence = np.array([sentence])\n",
    "    sentence_tokens = tokenizer.texts_to_sequences(sentence)\n",
    "    sentence_tokens = tf.keras.preprocessing.sequence.pad_sequences(sentence_tokens, maxlen = MAX_LENGTH)\n",
    "    sentence_tensor = torch.tensor(sentence_tokens, dtype = torch.long).to(device, dtype = torch.long)\n",
    "    \n",
    "    output = model(sentence_tensor)\n",
    "    if output.item() > 0.5:\n",
    "        print('Positive', output.item())\n",
    "    else:\n",
    "        print('Negative', output.item())"
   ]
  },
  {
   "cell_type": "code",
   "execution_count": 216,
   "metadata": {
    "execution": {
     "iopub.execute_input": "2021-12-13T20:30:10.441099Z",
     "iopub.status.busy": "2021-12-13T20:30:10.440751Z",
     "iopub.status.idle": "2021-12-13T20:30:10.473048Z",
     "shell.execute_reply": "2021-12-13T20:30:10.472363Z",
     "shell.execute_reply.started": "2021-12-13T20:30:10.441064Z"
    }
   },
   "outputs": [
    {
     "name": "stdout",
     "output_type": "stream",
     "text": [
      "Negative 0.12843497097492218\n"
     ]
    }
   ],
   "source": [
    "infer('لا احب هذا الشيء لانه سيء')"
   ]
  },
  {
   "cell_type": "code",
   "execution_count": 221,
   "metadata": {
    "execution": {
     "iopub.execute_input": "2021-12-13T20:31:34.562404Z",
     "iopub.status.busy": "2021-12-13T20:31:34.562077Z",
     "iopub.status.idle": "2021-12-13T20:31:34.585274Z",
     "shell.execute_reply": "2021-12-13T20:31:34.584591Z",
     "shell.execute_reply.started": "2021-12-13T20:31:34.562347Z"
    }
   },
   "outputs": [
    {
     "name": "stdout",
     "output_type": "stream",
     "text": [
      "Positive 0.8019070625305176\n"
     ]
    }
   ],
   "source": [
    "infer('احب هذا الشيء هو ليس سيء')"
   ]
  },
  {
   "cell_type": "markdown",
   "metadata": {},
   "source": [
    "## Test"
   ]
  },
  {
   "cell_type": "code",
   "execution_count": 165,
   "metadata": {
    "execution": {
     "iopub.execute_input": "2021-12-13T19:50:46.349593Z",
     "iopub.status.busy": "2021-12-13T19:50:46.349248Z",
     "iopub.status.idle": "2021-12-13T19:50:46.445304Z",
     "shell.execute_reply": "2021-12-13T19:50:46.443963Z",
     "shell.execute_reply.started": "2021-12-13T19:50:46.349560Z"
    }
   },
   "outputs": [],
   "source": [
    "df_test_pos = pd.read_csv('../input/arabic-sentiment-twitter-corpus/test_Arabic_tweets_positive_20190413.tsv', sep= '\\t', header= None, names = ['label','tweet'])\n",
    "df_test_neg = pd.read_csv('../input/arabic-sentiment-twitter-corpus/test_Arabic_tweets_negative_20190413.tsv', sep= '\\t', header= None, names = ['label','tweet'])"
   ]
  },
  {
   "cell_type": "code",
   "execution_count": 166,
   "metadata": {
    "execution": {
     "iopub.execute_input": "2021-12-13T19:51:35.357321Z",
     "iopub.status.busy": "2021-12-13T19:51:35.356970Z",
     "iopub.status.idle": "2021-12-13T19:51:35.381747Z",
     "shell.execute_reply": "2021-12-13T19:51:35.380877Z",
     "shell.execute_reply.started": "2021-12-13T19:51:35.357284Z"
    }
   },
   "outputs": [
    {
     "name": "stdout",
     "output_type": "stream",
     "text": [
      "<class 'pandas.core.frame.DataFrame'>\n",
      "Int64Index: 11520 entries, 4537 to 2770\n",
      "Data columns (total 3 columns):\n",
      " #   Column  Non-Null Count  Dtype \n",
      "---  ------  --------------  ----- \n",
      " 0   label   11520 non-null  object\n",
      " 1   tweet   11520 non-null  object\n",
      " 2   target  11520 non-null  int64 \n",
      "dtypes: int64(1), object(2)\n",
      "memory usage: 360.0+ KB\n"
     ]
    }
   ],
   "source": [
    "##-- concat and shuffle\n",
    "df_test = pd.concat([df_test_pos,df_test_neg],axis = 0).sample(frac = 1.0)\n",
    "df_test['target'] = df_test['label'].map({'pos':1,'neg':0},)\n",
    "df_test.info()"
   ]
  },
  {
   "cell_type": "code",
   "execution_count": 167,
   "metadata": {
    "execution": {
     "iopub.execute_input": "2021-12-13T19:53:15.074491Z",
     "iopub.status.busy": "2021-12-13T19:53:15.074166Z",
     "iopub.status.idle": "2021-12-13T19:53:15.360305Z",
     "shell.execute_reply": "2021-12-13T19:53:15.359573Z",
     "shell.execute_reply.started": "2021-12-13T19:53:15.074458Z"
    }
   },
   "outputs": [],
   "source": [
    "reviews_sequences_test = tokenizer.texts_to_sequences(df_test['tweet'].values)\n",
    "reviews_padded_test = tf.keras.preprocessing.sequence.pad_sequences(reviews_sequences_test, maxlen=MAX_LENGTH)"
   ]
  },
  {
   "cell_type": "code",
   "execution_count": 169,
   "metadata": {
    "execution": {
     "iopub.execute_input": "2021-12-13T19:53:43.835968Z",
     "iopub.status.busy": "2021-12-13T19:53:43.835690Z",
     "iopub.status.idle": "2021-12-13T19:53:43.843293Z",
     "shell.execute_reply": "2021-12-13T19:53:43.842177Z",
     "shell.execute_reply.started": "2021-12-13T19:53:43.835938Z"
    }
   },
   "outputs": [
    {
     "data": {
      "text/plain": [
       "numpy.ndarray"
      ]
     },
     "execution_count": 169,
     "metadata": {},
     "output_type": "execute_result"
    }
   ],
   "source": [
    "type(reviews_padded_test)"
   ]
  },
  {
   "cell_type": "code",
   "execution_count": 171,
   "metadata": {
    "execution": {
     "iopub.execute_input": "2021-12-13T19:54:16.597290Z",
     "iopub.status.busy": "2021-12-13T19:54:16.596837Z",
     "iopub.status.idle": "2021-12-13T19:54:16.602912Z",
     "shell.execute_reply": "2021-12-13T19:54:16.602108Z",
     "shell.execute_reply.started": "2021-12-13T19:54:16.597242Z"
    }
   },
   "outputs": [],
   "source": [
    "##-- Test\n",
    "test_dataset = TwitterDataset(tweets = reviews_padded_test ,targets = df_test['target'].values)\n",
    "test_loader = DataLoader(test_dataset, batch_size = BATCH_SIZE, shuffle = True)"
   ]
  },
  {
   "cell_type": "code",
   "execution_count": 196,
   "metadata": {
    "execution": {
     "iopub.execute_input": "2021-12-13T20:23:28.521475Z",
     "iopub.status.busy": "2021-12-13T20:23:28.520714Z",
     "iopub.status.idle": "2021-12-13T20:23:47.499793Z",
     "shell.execute_reply": "2021-12-13T20:23:47.498846Z",
     "shell.execute_reply.started": "2021-12-13T20:23:28.521425Z"
    }
   },
   "outputs": [
    {
     "name": "stdout",
     "output_type": "stream",
     "text": [
      "Test Accuracy Score: 0.9152777777777777\n",
      "              precision    recall  f1-score   support\n",
      "\n",
      "           0       0.90      0.93      0.92      5768\n",
      "           1       0.93      0.90      0.91      5752\n",
      "\n",
      "    accuracy                           0.92     11520\n",
      "   macro avg       0.92      0.92      0.92     11520\n",
      "weighted avg       0.92      0.92      0.92     11520\n",
      "\n"
     ]
    }
   ],
   "source": [
    "model_predictions, targets = evaluate(model, test_loader)\n",
    "        \n",
    "outputs = np.array(model_predictions) >= 0.5\n",
    "\n",
    "print(f'Test Accuracy Score: {metrics.accuracy_score(targets, outputs)}')\n",
    "print(metrics.classification_report(targets, outputs))"
   ]
  },
  {
   "cell_type": "code",
   "execution_count": 197,
   "metadata": {
    "execution": {
     "iopub.execute_input": "2021-12-13T20:23:54.974616Z",
     "iopub.status.busy": "2021-12-13T20:23:54.974255Z",
     "iopub.status.idle": "2021-12-13T20:23:55.106904Z",
     "shell.execute_reply": "2021-12-13T20:23:55.105951Z",
     "shell.execute_reply.started": "2021-12-13T20:23:54.974587Z"
    }
   },
   "outputs": [
    {
     "data": {
      "text/plain": [
       "<AxesSubplot:>"
      ]
     },
     "execution_count": 197,
     "metadata": {},
     "output_type": "execute_result"
    },
    {
     "data": {
      "image/png": "[encoded data removed]",
      "text/plain": [
       "<Figure size 432x288 with 1 Axes>"
      ]
     },
     "metadata": {
      "needs_background": "light"
     },
     "output_type": "display_data"
    }
   ],
   "source": [
    "sns.heatmap(metrics.confusion_matrix(targets, outputs), annot=True ,fmt='.2f', cbar=False , yticklabels=['True Negative','True Positive'], xticklabels=['Predict Negative','Predict Positive'])"
   ]
  },
  {
   "cell_type": "markdown",
   "metadata": {},
   "source": [
    "---"
   ]
  },
  {
   "cell_type": "markdown",
   "metadata": {},
   "source": [
    "# What's Next, (Improvements)\n",
    "    * Enhance the text preprocessing, for example removing stopwords.\n",
    "    * Add more layers and increase model capacity, we only used one bidirectional lstm.\n",
    "    * More training iterations, we only trained for 5 epochs."
   ]
  }
 ],
 "metadata": {
  "kernelspec": {
   "display_name": "Python 3 (ipykernel)",
   "language": "python",
   "name": "python3"
  },
  "language_info": {
   "codemirror_mode": {
    "name": "ipython",
    "version": 3
   },
   "file_extension": ".py",
   "mimetype": "text/x-python",
   "name": "python",
   "nbconvert_exporter": "python",
   "pygments_lexer": "ipython3",
   "version": "3.8.5"
  }
 },
 "nbformat": 4,
 "nbformat_minor": 4
}
